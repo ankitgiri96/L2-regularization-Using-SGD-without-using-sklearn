{
 "cells": [
  {
   "cell_type": "markdown",
   "metadata": {
    "id": "7eiDWcM_MC3H"
   },
   "source": [
    "# <font color='red'>Implement SGD Classifier with Logloss and L2 regularization Using SGD without using sklearn</font>"
   ]
  },
  {
   "cell_type": "markdown",
   "metadata": {
    "id": "yfe2NTQtLq11"
   },
   "source": [
    "**There will be some functions that start with the word \"grader\" ex: grader_weights(), grader_sigmoid(), grader_logloss() etc, you should not change those function definition.<br><br>Every Grader function has to return True.**"
   ]
  },
  {
   "cell_type": "markdown",
   "metadata": {
    "id": "Fk5DSPCLxqT-"
   },
   "source": [
    "<font color='red'> Importing packages</font>"
   ]
  },
  {
   "cell_type": "code",
   "execution_count": 1,
   "metadata": {
    "id": "42Et8BKIxnsp"
   },
   "outputs": [],
   "source": [
    "import numpy as np\n",
    "import pandas as pd\n",
    "import math\n",
    "from sklearn.datasets import make_classification\n",
    "from sklearn.model_selection import train_test_split\n",
    "from sklearn.preprocessing import StandardScaler\n",
    "from sklearn import linear_model"
   ]
  },
  {
   "cell_type": "markdown",
   "metadata": {
    "id": "NpSk3WQBx7TQ"
   },
   "source": [
    "<font color='red'>Creating custom dataset</font>"
   ]
  },
  {
   "cell_type": "code",
   "execution_count": 2,
   "metadata": {
    "id": "BsMp0oWzx6dv"
   },
   "outputs": [],
   "source": [
    "# please don't change random_state\n",
    "X, y = make_classification(n_samples=50000, n_features=15, n_informative=10, n_redundant=5,\n",
    "                           n_classes=2, weights=[0.6], class_sep=0.7, random_state=42)\n",
    "# make_classification is used to create custom dataset \n",
    "# Please check this link (https://scikit-learn.org/stable/modules/generated/sklearn.datasets.make_classification.html) for more details"
   ]
  },
  {
   "cell_type": "code",
   "execution_count": 3,
   "metadata": {
    "colab": {
     "base_uri": "https://localhost:8080/",
     "height": 34
    },
    "id": "L8W2fg1cyGdX",
    "outputId": "029d4c84-03b2-4143-a04c-34ff49c88890"
   },
   "outputs": [
    {
     "data": {
      "text/plain": [
       "((50000, 15), (50000,))"
      ]
     },
     "execution_count": 3,
     "metadata": {},
     "output_type": "execute_result"
    }
   ],
   "source": [
    "X.shape, y.shape"
   ]
  },
  {
   "cell_type": "markdown",
   "metadata": {
    "id": "x99RWCgpqNHw"
   },
   "source": [
    "<font color='red'>Splitting data into train and test </font>"
   ]
  },
  {
   "cell_type": "code",
   "execution_count": 4,
   "metadata": {
    "id": "0Kh4dBfVyJMP"
   },
   "outputs": [],
   "source": [
    "#please don't change random state\n",
    "X_train, X_test, y_train, y_test = train_test_split(X, y, test_size=0.25, random_state=42)"
   ]
  },
  {
   "cell_type": "code",
   "execution_count": 5,
   "metadata": {
    "id": "gONY1YiDq7jD"
   },
   "outputs": [],
   "source": [
    "# Standardizing the data.\n",
    "scaler = StandardScaler()\n",
    "X_train = scaler.fit_transform(X_train)\n",
    "X_test = scaler.transform(X_test)"
   ]
  },
  {
   "cell_type": "code",
   "execution_count": 6,
   "metadata": {
    "colab": {
     "base_uri": "https://localhost:8080/",
     "height": 34
    },
    "id": "0DR_YMBsyOci",
    "outputId": "732014d9-1731-4d3f-918f-a9f5255ee149"
   },
   "outputs": [
    {
     "data": {
      "text/plain": [
       "((37500, 15), (37500,), (12500, 15), (12500,))"
      ]
     },
     "execution_count": 6,
     "metadata": {},
     "output_type": "execute_result"
    }
   ],
   "source": [
    "X_train.shape, y_train.shape, X_test.shape, y_test.shape"
   ]
  },
  {
   "cell_type": "markdown",
   "metadata": {
    "id": "BW4OHswfqjHR"
   },
   "source": [
    "# <font color='red' size=5>SGD classifier</font>"
   ]
  },
  {
   "cell_type": "code",
   "execution_count": 7,
   "metadata": {
    "colab": {
     "base_uri": "https://localhost:8080/",
     "height": 118
    },
    "id": "3HpvTwDHyQQy",
    "outputId": "5729f08c-079a-4b17-bf51-f9aeb5abb13b"
   },
   "outputs": [
    {
     "data": {
      "text/plain": [
       "SGDClassifier(eta0=0.0001, learning_rate='constant', loss='log',\n",
       "              random_state=15, verbose=2)"
      ]
     },
     "execution_count": 7,
     "metadata": {},
     "output_type": "execute_result"
    }
   ],
   "source": [
    "# alpha : float\n",
    "# Constant that multiplies the regularization term. \n",
    "\n",
    "# eta0 : double\n",
    "# The initial learning rate for the ‘constant’, ‘invscaling’ or ‘adaptive’ schedules.\n",
    "\n",
    "clf = linear_model.SGDClassifier(eta0=0.0001, alpha=0.0001, loss='log', random_state=15, penalty='l2', tol=1e-3, verbose=2, learning_rate='constant')\n",
    "clf\n",
    "# Please check this documentation (https://scikit-learn.org/stable/modules/generated/sklearn.linear_model.SGDClassifier.html) "
   ]
  },
  {
   "cell_type": "code",
   "execution_count": 8,
   "metadata": {
    "colab": {
     "base_uri": "https://localhost:8080/",
     "height": 638
    },
    "id": "YYaVyQ2lyXcr",
    "outputId": "dc0bf840-b37e-4552-e513-84b64f6c64c4"
   },
   "outputs": [
    {
     "name": "stdout",
     "output_type": "stream",
     "text": [
      "-- Epoch 1\n",
      "Norm: 0.61, NNZs: 15, Bias: -0.250328, T: 37500, Avg. loss: 0.592502\n",
      "Total training time: 0.01 seconds.\n",
      "-- Epoch 2\n",
      "Norm: 0.82, NNZs: 15, Bias: -0.369630, T: 75000, Avg. loss: 0.541622\n",
      "Total training time: 0.02 seconds.\n",
      "-- Epoch 3\n",
      "Norm: 0.92, NNZs: 15, Bias: -0.431641, T: 112500, Avg. loss: 0.532164\n",
      "Total training time: 0.03 seconds.\n",
      "-- Epoch 4\n",
      "Norm: 0.98, NNZs: 15, Bias: -0.468398, T: 150000, Avg. loss: 0.529071\n",
      "Total training time: 0.04 seconds.\n",
      "-- Epoch 5\n",
      "Norm: 1.02, NNZs: 15, Bias: -0.489412, T: 187500, Avg. loss: 0.527902\n",
      "Total training time: 0.05 seconds.\n",
      "-- Epoch 6\n",
      "Norm: 1.05, NNZs: 15, Bias: -0.499685, T: 225000, Avg. loss: 0.527340\n",
      "Total training time: 0.05 seconds.\n",
      "-- Epoch 7\n",
      "Norm: 1.07, NNZs: 15, Bias: -0.506118, T: 262500, Avg. loss: 0.527130\n",
      "Total training time: 0.06 seconds.\n",
      "-- Epoch 8\n",
      "Norm: 1.08, NNZs: 15, Bias: -0.512639, T: 300000, Avg. loss: 0.526993\n",
      "Total training time: 0.07 seconds.\n",
      "-- Epoch 9\n",
      "Norm: 1.09, NNZs: 15, Bias: -0.512699, T: 337500, Avg. loss: 0.526929\n",
      "Total training time: 0.08 seconds.\n",
      "-- Epoch 10\n",
      "Norm: 1.10, NNZs: 15, Bias: -0.515463, T: 375000, Avg. loss: 0.526902\n",
      "Total training time: 0.08 seconds.\n",
      "Convergence after 10 epochs took 0.08 seconds\n"
     ]
    },
    {
     "data": {
      "text/plain": [
       "SGDClassifier(eta0=0.0001, learning_rate='constant', loss='log',\n",
       "              random_state=15, verbose=2)"
      ]
     },
     "execution_count": 8,
     "metadata": {},
     "output_type": "execute_result"
    }
   ],
   "source": [
    "clf.fit(X=X_train, y=y_train) # fitting our model"
   ]
  },
  {
   "cell_type": "code",
   "execution_count": 9,
   "metadata": {
    "colab": {
     "base_uri": "https://localhost:8080/",
     "height": 101
    },
    "id": "EAfkVI6GyaRO",
    "outputId": "bc88f920-6531-4106-9b4c-4dabb6d72b47"
   },
   "outputs": [
    {
     "data": {
      "text/plain": [
       "(array([[ 0.15849275,  0.27600431, -0.06716027,  0.02780819,  0.10935144,\n",
       "          0.10730814, -0.67854728,  0.03694831, -0.53966481, -0.26110789,\n",
       "          0.05822099, -0.08086551, -0.05879137, -0.06834894,  0.48839778]]),\n",
       " (1, 15),\n",
       " array([-0.51546303]))"
      ]
     },
     "execution_count": 9,
     "metadata": {},
     "output_type": "execute_result"
    }
   ],
   "source": [
    "sklearn_coef = clf.coef_\n",
    "sklearn_intercept = clf.intercept_\n",
    "clf.coef_, clf.coef_.shape, clf.intercept_\n",
    "#clf.coef_ will return the weights\n",
    "#clf.coef_.shape will return the shape of weights\n",
    "#clf.intercept_ will return the intercept term"
   ]
  },
  {
   "cell_type": "markdown",
   "metadata": {
    "id": "_-CcGTKgsMrY"
   },
   "source": [
    "\n",
    "\n",
    "```\n",
    "# This is formatted as code\n",
    "```\n",
    "\n",
    "## <font color='red' size=5> Implement Logistic Regression with L2 regularization Using SGD: without using sklearn </font>\n",
    "\n"
   ]
  },
  {
   "cell_type": "markdown",
   "metadata": {
    "id": "W1_8bdzitDlM"
   },
   "source": [
    "\n",
    "\n",
    "\n",
    "1.  We will be giving you some functions, please write code in that functions only.\n",
    "\n",
    "2.  After every function, we will be giving you expected output, please make sure that you get that output. \n",
    "\n",
    "\n",
    "\n"
   ]
  },
  {
   "cell_type": "markdown",
   "metadata": {
    "id": "zU2Y3-FQuJ3z"
   },
   "source": [
    "\n",
    "<br>\n",
    "\n",
    "* Initialize the weight_vector and intercept term to zeros (Write your code in <font color='blue'>def initialize_weights()</font>)\n",
    "\n",
    "* Create a loss function (Write your code in <font color='blue'>def logloss()</font>) \n",
    "\n",
    " $log loss = -1*\\frac{1}{n}\\Sigma_{for each Yt,Y_{pred}}(Ytlog10(Y_{pred})+(1-Yt)log10(1-Y_{pred}))$\n",
    "- for each epoch:\n",
    "\n",
    "    - for each batch of data points in train: (keep batch size=1)\n",
    "\n",
    "        - calculate the gradient of loss function w.r.t each weight in weight vector (write your code in <font color='blue'>def gradient_dw()</font>)\n",
    "\n",
    "        $dw^{(t)} = x_n(y_n − σ((w^{(t)})^{T} x_n+b^{t}))- \\frac{λ}{N}w^{(t)})$ <br>\n",
    "\n",
    "        - Calculate the gradient of the intercept (write your code in <font color='blue'> def gradient_db()</font>) <a href='https://drive.google.com/file/d/1nQ08-XY4zvOLzRX-lGf8EYB5arb7-m1H/view?usp=sharing'>check this</a>\n",
    "\n",
    "           $ db^{(t)} = y_n- σ((w^{(t)})^{T} x_n+b^{t}))$\n",
    "\n",
    "        - Update weights and intercept (check the equation number 32 in the above mentioned <a href='https://drive.google.com/file/d/1nQ08-XY4zvOLzRX-lGf8EYB5arb7-m1H/view?usp=sharing'>pdf</a>): <br>\n",
    "        $w^{(t+1)}← w^{(t)}+α(dw^{(t)}) $<br>\n",
    "\n",
    "        $b^{(t+1)}←b^{(t)}+α(db^{(t)}) $\n",
    "    - calculate the log loss for train and test with the updated weights (you can check the python assignment 10th question)\n",
    "    - And if you wish, you can compare the previous loss and the current loss, if it is not updating, then\n",
    "        you can stop the training\n",
    "    - append this loss in the list ( this will be used to see how loss is changing for each epoch after the training is over )\n"
   ]
  },
  {
   "cell_type": "markdown",
   "metadata": {
    "id": "ZR_HgjgS_wKu"
   },
   "source": [
    "### <font color='blue'>Initialize weights </font>"
   ]
  },
  {
   "cell_type": "code",
   "execution_count": 10,
   "metadata": {
    "id": "GecwYV9fsKZ9"
   },
   "outputs": [],
   "source": [
    "def initialize_weights(dim):\n",
    "    ''' In this function, we will initialize our weights and bias'''\n",
    "    #initialize the weights to zeros array of (1,dim) dimensions\n",
    "    #you use zeros_like function to initialize zero, check this link https://docs.scipy.org/doc/numpy/reference/generated/numpy.zeros_like.html\n",
    "    #initialize bias to zero\n",
    "    w = np.zeros_like(dim)\n",
    "    b = 0\n",
    "    return w,b"
   ]
  },
  {
   "cell_type": "code",
   "execution_count": 11,
   "metadata": {
    "id": "A7I6uWBRsKc4"
   },
   "outputs": [
    {
     "name": "stdout",
     "output_type": "stream",
     "text": [
      "w = [0. 0. 0. 0. 0. 0. 0. 0. 0. 0. 0. 0. 0. 0. 0.]\n",
      "b = 0\n"
     ]
    }
   ],
   "source": [
    "dim=X_train[0] \n",
    "w,b = initialize_weights(dim)\n",
    "print('w =',(w))\n",
    "print('b =',str(b))"
   ]
  },
  {
   "cell_type": "markdown",
   "metadata": {
    "id": "4MI5SAjP9ofN"
   },
   "source": [
    "### <font color='cyan'>Grader function - 1 </font>"
   ]
  },
  {
   "cell_type": "code",
   "execution_count": 12,
   "metadata": {
    "id": "Pv1llH429wG5"
   },
   "outputs": [
    {
     "data": {
      "text/plain": [
       "True"
      ]
     },
     "execution_count": 12,
     "metadata": {},
     "output_type": "execute_result"
    }
   ],
   "source": [
    "dim=X_train[0] \n",
    "w,b = initialize_weights(dim)\n",
    "def grader_weights(w,b):\n",
    "  assert((len(w)==len(dim)) and b==0 and np.sum(w)==0.0)\n",
    "  return True\n",
    "grader_weights(w,b)"
   ]
  },
  {
   "cell_type": "markdown",
   "metadata": {
    "id": "QN83oMWy_5rv"
   },
   "source": [
    "### <font color='blue'>Compute sigmoid </font>"
   ]
  },
  {
   "cell_type": "markdown",
   "metadata": {
    "id": "qPv4NJuxABgs"
   },
   "source": [
    "$sigmoid(z)= 1/(1+exp(-z))$"
   ]
  },
  {
   "cell_type": "code",
   "execution_count": 13,
   "metadata": {
    "id": "nAfmQF47_Sd6"
   },
   "outputs": [],
   "source": [
    "def sigmoid(z):\n",
    "    ''' In this function, we will return sigmoid of z'''\n",
    "    # compute sigmoid(z) and return\n",
    "    a = 1/(1+np.exp(-z))\n",
    "    return a"
   ]
  },
  {
   "cell_type": "markdown",
   "metadata": {
    "id": "9YrGDwg3Ae4m"
   },
   "source": [
    "### <font color='cyan'>Grader function - 2</font>"
   ]
  },
  {
   "cell_type": "code",
   "execution_count": 14,
   "metadata": {
    "id": "P_JASp_NAfK_"
   },
   "outputs": [
    {
     "data": {
      "text/plain": [
       "True"
      ]
     },
     "execution_count": 14,
     "metadata": {},
     "output_type": "execute_result"
    }
   ],
   "source": [
    "def grader_sigmoid(z):\n",
    "  val=sigmoid(z)\n",
    "  assert(val==0.8807970779778823)\n",
    "  return True\n",
    "grader_sigmoid(2)"
   ]
  },
  {
   "cell_type": "markdown",
   "metadata": {
    "id": "gS7JXbcrBOFF"
   },
   "source": [
    "### <font color='blue'> Compute loss </font>"
   ]
  },
  {
   "cell_type": "markdown",
   "metadata": {
    "id": "lfEiS22zBVYy"
   },
   "source": [
    "$log loss = -1*\\frac{1}{n}\\Sigma_{for each Yt,Y_{pred}}(Ytlog10(Y_{pred})+(1-Yt)log10(1-Y_{pred}))$"
   ]
  },
  {
   "cell_type": "code",
   "execution_count": 15,
   "metadata": {
    "id": "VaFDgsp3sKi6"
   },
   "outputs": [],
   "source": [
    "def logloss(y_true,y_pred):\n",
    "    '''In this function, we will compute log loss '''\n",
    "    s = 0\n",
    "    for i in range(len(y_true)):\n",
    "        s = s+( y_true[i]*np.log10(y_pred[i])+(1-y_true[i])*np.log10(1-y_pred[i]) )\n",
    "    loss = s*(-1/len(y_true))\n",
    "    return loss"
   ]
  },
  {
   "cell_type": "markdown",
   "metadata": {
    "id": "Zs1BTXVSClBt"
   },
   "source": [
    "### <font color='cyan'>Grader function - 3 </font>"
   ]
  },
  {
   "cell_type": "code",
   "execution_count": 16,
   "metadata": {
    "id": "LzttjvBFCuQ5"
   },
   "outputs": [
    {
     "data": {
      "text/plain": [
       "True"
      ]
     },
     "execution_count": 16,
     "metadata": {},
     "output_type": "execute_result"
    }
   ],
   "source": [
    "def grader_logloss(true,pred):\n",
    "  loss=logloss(true,pred)\n",
    "  assert(loss==0.07644900402910389)\n",
    "  return True\n",
    "true=[1,1,0,1,0]\n",
    "pred=[0.9,0.8,0.1,0.8,0.2]\n",
    "grader_logloss(true,pred)"
   ]
  },
  {
   "cell_type": "markdown",
   "metadata": {
    "id": "tQabIadLCBAB"
   },
   "source": [
    "### <font color='blue'>Compute gradient w.r.to  'w' </font>"
   ]
  },
  {
   "cell_type": "markdown",
   "metadata": {
    "id": "YTMxiYKaCQgd"
   },
   "source": [
    "$dw^{(t)} = x_n(y_n − σ((w^{(t)})^{T} x_n+b^{t}))- \\frac{λ}{N}w^{(t)}$ <br>"
   ]
  },
  {
   "cell_type": "code",
   "execution_count": 17,
   "metadata": {
    "id": "NMVikyuFsKo5"
   },
   "outputs": [],
   "source": [
    "def gradient_dw(x,y,w,b,alpha,N):\n",
    "    '''In this function, we will compute the gardient w.r.to w '''\n",
    "    dw = x*(y - sigmoid(np.dot(w.T,x)+b)- (alpha/N)*w )\n",
    "    return dw"
   ]
  },
  {
   "cell_type": "markdown",
   "metadata": {
    "id": "RUFLNqL_GER9"
   },
   "source": [
    "### <font color='cyan'>Grader function - 4 </font>"
   ]
  },
  {
   "cell_type": "code",
   "execution_count": 18,
   "metadata": {
    "id": "WI3xD8ctGEnJ"
   },
   "outputs": [
    {
     "data": {
      "text/plain": [
       "True"
      ]
     },
     "execution_count": 18,
     "metadata": {},
     "output_type": "execute_result"
    }
   ],
   "source": [
    "def grader_dw(x,y,w,b,alpha,N):\n",
    "  grad_dw=gradient_dw(x,y,w,b,alpha,N)\n",
    "  assert(np.sum(grad_dw)==2.613689585)\n",
    "  return True\n",
    "grad_x=np.array([-2.07864835,  3.31604252, -0.79104357, -3.87045546, -1.14783286,\n",
    "       -2.81434437, -0.86771071, -0.04073287,  0.84827878,  1.99451725,\n",
    "        3.67152472,  0.01451875,  2.01062888,  0.07373904, -5.54586092])\n",
    "grad_y=0\n",
    "grad_w,grad_b=initialize_weights(grad_x)\n",
    "alpha=0.0001\n",
    "N=len(X_train)\n",
    "grader_dw(grad_x,grad_y,grad_w,grad_b,alpha,N)"
   ]
  },
  {
   "cell_type": "markdown",
   "metadata": {
    "id": "LE8g84_GI62n"
   },
   "source": [
    "### <font color='blue'>Compute gradient w.r.to 'b' </font>"
   ]
  },
  {
   "cell_type": "markdown",
   "metadata": {
    "id": "fHvTYZzZJJ_N"
   },
   "source": [
    "$ db^{(t)} = y_n- σ((w^{(t)})^{T} x_n+b^{t})$"
   ]
  },
  {
   "cell_type": "code",
   "execution_count": 19,
   "metadata": {
    "id": "0nUf2ft4EZp8"
   },
   "outputs": [],
   "source": [
    " def gradient_db(x,y,w,b):\n",
    "     '''In this function, we will compute gradient w.r.to b '''\n",
    "     db = y - sigmoid(np.dot(w.T,x) + b)\n",
    "     return db"
   ]
  },
  {
   "cell_type": "markdown",
   "metadata": {
    "id": "pbcBzufVG6qk"
   },
   "source": [
    "### <font color='cyan'>Grader function - 5 </font>"
   ]
  },
  {
   "cell_type": "code",
   "execution_count": 20,
   "metadata": {
    "id": "TfFDKmscG5qZ"
   },
   "outputs": [
    {
     "data": {
      "text/plain": [
       "True"
      ]
     },
     "execution_count": 20,
     "metadata": {},
     "output_type": "execute_result"
    }
   ],
   "source": [
    "def grader_db(x,y,w,b):\n",
    "  grad_db=gradient_db(x,y,w,b)\n",
    "  assert(grad_db==-0.5)\n",
    "  return True\n",
    "grad_x=np.array([-2.07864835,  3.31604252, -0.79104357, -3.87045546, -1.14783286,\n",
    "       -2.81434437, -0.86771071, -0.04073287,  0.84827878,  1.99451725,\n",
    "        3.67152472,  0.01451875,  2.01062888,  0.07373904, -5.54586092])\n",
    "grad_y=0\n",
    "grad_w,grad_b=initialize_weights(grad_x)\n",
    "alpha=0.0001\n",
    "N=len(X_train)\n",
    "grader_db(grad_x,grad_y,grad_w,grad_b)"
   ]
  },
  {
   "cell_type": "markdown",
   "metadata": {
    "id": "TCK0jY_EOvyU"
   },
   "source": [
    "### <font color='blue'> Implementing logistic regression</font>"
   ]
  },
  {
   "cell_type": "code",
   "execution_count": 21,
   "metadata": {
    "id": "dmAdc5ejEZ25"
   },
   "outputs": [],
   "source": [
    "from datetime import datetime\n",
    "\n",
    "def train(X_train,y_train,X_test,y_test,epochs,alpha,eta0):\n",
    "    ''' In this function, we will implement logistic regression'''\n",
    "    start_time = datetime.now()\n",
    "    #Here eta0 is learning rate\n",
    "    #implement the code as follows\n",
    "    # initalize the weights (call the initialize_weights(X_train[0]) function)\n",
    "    # for every epoch\n",
    "        # for every data point(X_train,y_train)\n",
    "           #compute gradient w.r.to w (call the gradient_dw() function)\n",
    "           #compute gradient w.r.to b (call the gradient_db() function)\n",
    "           #update w, b\n",
    "        # predict the output of x_train[for all data points in X_train] using w,b\n",
    "        #compute the loss between predicted and actual values (call the loss function)\n",
    "        # store all the train loss values in a list\n",
    "        # predict the output of x_test[for all data points in X_test] using w,b\n",
    "        #compute the loss between predicted and actual values (call the loss function)\n",
    "        # store all the test loss values in a list\n",
    "        # you can also compare previous loss and current loss, if loss is not updating then stop the process and return w,b\n",
    "    w,b = initialize_weights(dim=X_train[0])\n",
    "    train_loss = []    #train loss stored for each epoch\n",
    "    test_loss = []     #test loss stored for each epoch\n",
    "    \n",
    "    for i in range(epochs):\n",
    "        ytrain_pred = []          #train data predicted output here\n",
    "        ytest_pred = []           #test data predeicted output here\n",
    "        \n",
    "        for j in range(len(X_train)):  #iterate over each data point in training set\n",
    "            dw = gradient_dw(X_train[j], y_train[j], w, b, alpha, N=len(X_train))   #find the gradiet w.r.t w\n",
    "            db = gradient_db(X_train[j], y_train[j], w, b)                          #find gradient w.r.t b\n",
    "            w += eta0*dw          #updating w and b\n",
    "            b += eta0*db\n",
    "            \n",
    "        for k in range(len(X_train)):\n",
    "            z_train = np.dot(w,X_train[k]) + b\n",
    "            ytrain_pred.append(sigmoid(z_train))   #prediction on training data\n",
    "        tr_loss = logloss(y_train, ytrain_pred)    #training logloss\n",
    "        train_loss.append(tr_loss)\n",
    "        \n",
    "        for l in range(len(X_test)):\n",
    "            z_test = np.dot(w,X_test[l]) + b\n",
    "            ytest_pred .append(sigmoid(z_test))   #prediction on test data\n",
    "        te_loss = logloss(y_test, ytest_pred)     #test logloss\n",
    "        test_loss.append(te_loss)\n",
    "        \n",
    "        avg_loss = (tr_loss+te_loss)/2            #average logloss (avg for training and test logloss)\n",
    "        pre_loss = (train_loss[i-1] + test_loss[i-1])/2   #previos iteration logloss\n",
    "        \n",
    "        print('Epoch number: {}'.format(i+1))\n",
    "        print('\\tPrev. loss: {}'.format(pre_loss))\n",
    "        print('\\tAvg. loss: {}'.format(avg_loss))\n",
    "        \n",
    "        if i >= 1 and pre_loss < avg_loss :           #ponit at which prev. logloss becomes less than current, stop the training\n",
    "            end_time = datetime.now()\n",
    "            total_elapsed = (end_time-start_time).total_seconds()\n",
    "            print('\\nConvergence after {} epochs took {} seconds'.format(i+1,total_elapsed))\n",
    "            last_epoch = i+1\n",
    "            break\n",
    "    else:\n",
    "        end_time = datetime.now()                      #if not converges withing given epoch no. run till last and converge there only\n",
    "        total_elapsed = (end_time-start_time).total_seconds()\n",
    "        last_epoch = i+1\n",
    "        print('Convergence after {} epochs took {} seconds'.format(i+1,total_elapsed))\n",
    "    return w,b,last_epoch,train_loss,test_loss              #return last w, b, all training logloss list and test logloss list."
   ]
  },
  {
   "cell_type": "code",
   "execution_count": 22,
   "metadata": {
    "id": "sUquz7LFEZ6E"
   },
   "outputs": [
    {
     "name": "stdout",
     "output_type": "stream",
     "text": [
      "Epoch number: 1\n",
      "\tPrev. loss: 0.24046108482797846\n",
      "\tAvg. loss: 0.24046108482797846\n",
      "Epoch number: 2\n",
      "\tPrev. loss: 0.24046108482797846\n",
      "\tAvg. loss: 0.23315075123040757\n",
      "Epoch number: 3\n",
      "\tPrev. loss: 0.23315075123040757\n",
      "\tAvg. loss: 0.23104572569548656\n",
      "Epoch number: 4\n",
      "\tPrev. loss: 0.23104572569548656\n",
      "\tAvg. loss: 0.2302475631449999\n",
      "Epoch number: 5\n",
      "\tPrev. loss: 0.2302475631449999\n",
      "\tAvg. loss: 0.2298931918649711\n",
      "Epoch number: 6\n",
      "\tPrev. loss: 0.2298931918649711\n",
      "\tAvg. loss: 0.2297182276819303\n",
      "Epoch number: 7\n",
      "\tPrev. loss: 0.2297182276819303\n",
      "\tAvg. loss: 0.22962497446267655\n",
      "Epoch number: 8\n",
      "\tPrev. loss: 0.22962497446267655\n",
      "\tAvg. loss: 0.22957229293823386\n",
      "Epoch number: 9\n",
      "\tPrev. loss: 0.22957229293823386\n",
      "\tAvg. loss: 0.22954110870604094\n",
      "Epoch number: 10\n",
      "\tPrev. loss: 0.22954110870604094\n",
      "\tAvg. loss: 0.22952191439874797\n",
      "Epoch number: 11\n",
      "\tPrev. loss: 0.22952191439874797\n",
      "\tAvg. loss: 0.22950969932087265\n",
      "Epoch number: 12\n",
      "\tPrev. loss: 0.22950969932087265\n",
      "\tAvg. loss: 0.22950170085562543\n",
      "Epoch number: 13\n",
      "\tPrev. loss: 0.22950170085562543\n",
      "\tAvg. loss: 0.22949633583415502\n",
      "Epoch number: 14\n",
      "\tPrev. loss: 0.22949633583415502\n",
      "\tAvg. loss: 0.2294926648473786\n",
      "Epoch number: 15\n",
      "\tPrev. loss: 0.2294926648473786\n",
      "\tAvg. loss: 0.22949011221849192\n",
      "Epoch number: 16\n",
      "\tPrev. loss: 0.22949011221849192\n",
      "\tAvg. loss: 0.22948831446408907\n",
      "Epoch number: 17\n",
      "\tPrev. loss: 0.22948831446408907\n",
      "\tAvg. loss: 0.22948703573736728\n",
      "Epoch number: 18\n",
      "\tPrev. loss: 0.22948703573736728\n",
      "\tAvg. loss: 0.2294861192626283\n",
      "Epoch number: 19\n",
      "\tPrev. loss: 0.2294861192626283\n",
      "\tAvg. loss: 0.22948545863670294\n",
      "Epoch number: 20\n",
      "\tPrev. loss: 0.22948545863670294\n",
      "\tAvg. loss: 0.22948498038290402\n",
      "Epoch number: 21\n",
      "\tPrev. loss: 0.22948498038290402\n",
      "\tAvg. loss: 0.22948463304553807\n",
      "Epoch number: 22\n",
      "\tPrev. loss: 0.22948463304553807\n",
      "\tAvg. loss: 0.2294843801886507\n",
      "Epoch number: 23\n",
      "\tPrev. loss: 0.2294843801886507\n",
      "\tAvg. loss: 0.22948419578923884\n",
      "Epoch number: 24\n",
      "\tPrev. loss: 0.22948419578923884\n",
      "\tAvg. loss: 0.22948406113913283\n",
      "Epoch number: 25\n",
      "\tPrev. loss: 0.22948406113913283\n",
      "\tAvg. loss: 0.22948396272221833\n",
      "Epoch number: 26\n",
      "\tPrev. loss: 0.22948396272221833\n",
      "\tAvg. loss: 0.2294838907373379\n",
      "Epoch number: 27\n",
      "\tPrev. loss: 0.2294838907373379\n",
      "\tAvg. loss: 0.2294838380576937\n",
      "Epoch number: 28\n",
      "\tPrev. loss: 0.2294838380576937\n",
      "\tAvg. loss: 0.22948379949057643\n",
      "Epoch number: 29\n",
      "\tPrev. loss: 0.22948379949057643\n",
      "\tAvg. loss: 0.22948377124680214\n",
      "Epoch number: 30\n",
      "\tPrev. loss: 0.22948377124680214\n",
      "\tAvg. loss: 0.22948375055829154\n",
      "Epoch number: 31\n",
      "\tPrev. loss: 0.22948375055829154\n",
      "\tAvg. loss: 0.2294837354012434\n",
      "Epoch number: 32\n",
      "\tPrev. loss: 0.2294837354012434\n",
      "\tAvg. loss: 0.22948372429511094\n",
      "Epoch number: 33\n",
      "\tPrev. loss: 0.22948372429511094\n",
      "\tAvg. loss: 0.22948371615627539\n",
      "Epoch number: 34\n",
      "\tPrev. loss: 0.22948371615627539\n",
      "\tAvg. loss: 0.22948371019136113\n",
      "Epoch number: 35\n",
      "\tPrev. loss: 0.22948371019136113\n",
      "\tAvg. loss: 0.22948370581934008\n",
      "Epoch number: 36\n",
      "\tPrev. loss: 0.22948370581934008\n",
      "\tAvg. loss: 0.22948370261460838\n",
      "Epoch number: 37\n",
      "\tPrev. loss: 0.22948370261460838\n",
      "\tAvg. loss: 0.22948370026536102\n",
      "Epoch number: 38\n",
      "\tPrev. loss: 0.22948370026536102\n",
      "\tAvg. loss: 0.22948369854312828\n",
      "Epoch number: 39\n",
      "\tPrev. loss: 0.22948369854312828\n",
      "\tAvg. loss: 0.2294836972804996\n",
      "Epoch number: 40\n",
      "\tPrev. loss: 0.2294836972804996\n",
      "\tAvg. loss: 0.2294836963547719\n",
      "Epoch number: 41\n",
      "\tPrev. loss: 0.2294836963547719\n",
      "\tAvg. loss: 0.22948369567602345\n",
      "Epoch number: 42\n",
      "\tPrev. loss: 0.22948369567602345\n",
      "\tAvg. loss: 0.22948369517834033\n",
      "Epoch number: 43\n",
      "\tPrev. loss: 0.22948369517834033\n",
      "\tAvg. loss: 0.2294836948134058\n",
      "Epoch number: 44\n",
      "\tPrev. loss: 0.2294836948134058\n",
      "\tAvg. loss: 0.22948369454580086\n",
      "Epoch number: 45\n",
      "\tPrev. loss: 0.22948369454580086\n",
      "\tAvg. loss: 0.22948369434955923\n",
      "Epoch number: 46\n",
      "\tPrev. loss: 0.22948369434955923\n",
      "\tAvg. loss: 0.22948369420564693\n",
      "Epoch number: 47\n",
      "\tPrev. loss: 0.22948369420564693\n",
      "\tAvg. loss: 0.2294836941001075\n",
      "Epoch number: 48\n",
      "\tPrev. loss: 0.2294836941001075\n",
      "\tAvg. loss: 0.22948369402270397\n",
      "Epoch number: 49\n",
      "\tPrev. loss: 0.22948369402270397\n",
      "\tAvg. loss: 0.22948369396593316\n",
      "Epoch number: 50\n",
      "\tPrev. loss: 0.22948369396593316\n",
      "\tAvg. loss: 0.22948369392429774\n",
      "Convergence after 50 epochs took 58.820679 seconds\n",
      "\n",
      "train_loss:  [0.23974432212609764, 0.23235532049399887, 0.23022683083461956, 0.22943066801732256, 0.22908896077581817, 0.22892957156993293, 0.22885122177926687, 0.22881139106080436, 0.22879069182620249, 0.22877977326510351, 0.2287739519592428, 0.22877082229649245, 0.22876912749295614, 0.22876820322404495, 0.22876769535747288, 0.22876741388121138, 0.22876725627838018, 0.22876716694938112, 0.22876711557576768, 0.22876708552340672, 0.22876706759963292, 0.22876705667938227, 0.22876704987452331, 0.22876704553621846, 0.2287670427084809, 0.22876704082698915, 0.2287670395518493, 0.22876703867382744, 0.22876703806116652, 0.22876703762901354, 0.2287670373215329, 0.22876703710126806, 0.22876703694263856, 0.22876703682793204, 0.22876703674473, 0.22876703668423337, 0.22876703664016843, 0.2287670366080195, 0.22876703658455183, 0.22876703656739686, 0.2287670365548536, 0.22876703654567598, 0.2287670365389614, 0.22876703653404484, 0.22876703653044217, 0.22876703652780206, 0.22876703652587255, 0.2287670365244563, 0.22876703652341612, 0.22876703652265792]\n",
      "test_loss:  [0.2411778475298593, 0.23394618196681624, 0.23186462055635357, 0.23106445827267724, 0.230697422954124, 0.23050688379392767, 0.2303987271460862, 0.23033319481566336, 0.2302915255858794, 0.23026405553239243, 0.2302454466825025, 0.2302325794147584, 0.2302235441753539, 0.23021712647071224, 0.23021252907951098, 0.23020921504696676, 0.23020681519635436, 0.2302050715758755, 0.23020380169763818, 0.23020287524240132, 0.2302021984914432, 0.23020170369791912, 0.2302013417039544, 0.23020107674204723, 0.23020088273595576, 0.23020074064768667, 0.23020063656353812, 0.2302005603073254, 0.23020050443243778, 0.23020046348756953, 0.2302004334809539, 0.23020041148895382, 0.23020039536991221, 0.23020038355479022, 0.23020037489395012, 0.23020036854498338, 0.2302003638905536, 0.23020036047823708, 0.2302003579764474, 0.2302003561421469, 0.23020035479719334, 0.2302003538110047, 0.23020035308785022, 0.2302003525575569, 0.23020035216867632, 0.2302003518834918, 0.23020035167434247, 0.23020035152095164, 0.23020035140845022, 0.23020035132593758]\n"
     ]
    }
   ],
   "source": [
    "alpha=0.0001\n",
    "eta0=0.0001\n",
    "N=len(X_train)\n",
    "epochs=50\n",
    "w,b,last_epoch,train_loss,test_loss=train(X_train,y_train,X_test,y_test,epochs,alpha,eta0)\n",
    "print('\\ntrain_loss: ', train_loss)\n",
    "print('test_loss: ',test_loss)"
   ]
  },
  {
   "cell_type": "markdown",
   "metadata": {
    "id": "l4Zf_wPARlwY"
   },
   "source": [
    "### <font color='red'>Goal of assignment</font>"
   ]
  },
  {
   "cell_type": "markdown",
   "metadata": {
    "id": "l3eF_VSPSH2z"
   },
   "source": [
    "Compare your implementation and SGDClassifier's the weights and intercept, make sure they are as close as possible i.e difference should be in terms of 10^-3"
   ]
  },
  {
   "cell_type": "markdown",
   "metadata": {},
   "source": [
    "* custom implemented SGD co-efficients and intercept are w and b repectively"
   ]
  },
  {
   "cell_type": "code",
   "execution_count": 23,
   "metadata": {},
   "outputs": [
    {
     "data": {
      "text/plain": [
       "50"
      ]
     },
     "execution_count": 23,
     "metadata": {},
     "output_type": "execute_result"
    }
   ],
   "source": [
    "sgd_coeff = w\n",
    "sgd_intercept = b\n",
    "last_epoch"
   ]
  },
  {
   "cell_type": "code",
   "execution_count": 24,
   "metadata": {
    "id": "nx8Rs9rfEZ1R"
   },
   "outputs": [
    {
     "name": "stdout",
     "output_type": "stream",
     "text": [
      "sgd_coeff:  [ 0.15228923  0.28121234 -0.06608146  0.03628022  0.11175928  0.11129544\n",
      " -0.68954286  0.03640683 -0.543305   -0.2622987   0.06887824 -0.07691218\n",
      " -0.06177126 -0.06948261  0.50296224]\n",
      "sgd_intercept:  -0.5163804917458794\n"
     ]
    }
   ],
   "source": [
    "# these are the results we got after we implemented sgd and found the optimal weights and intercept\n",
    "print('sgd_coeff: ', sgd_coeff)\n",
    "print('sgd_intercept: ', sgd_intercept)"
   ]
  },
  {
   "cell_type": "markdown",
   "metadata": {},
   "source": [
    "### <font color='cyan'> Coefficients difference: custom - sklearn co-eff </font>"
   ]
  },
  {
   "cell_type": "code",
   "execution_count": 25,
   "metadata": {},
   "outputs": [
    {
     "data": {
      "text/plain": [
       "array([[-0.00620351,  0.00520803,  0.00107882,  0.00847203,  0.00240784,\n",
       "         0.00398731, -0.01099558, -0.00054148, -0.00364019, -0.00119081,\n",
       "         0.01065726,  0.00395333, -0.0029799 , -0.00113366,  0.01456446]])"
      ]
     },
     "execution_count": 25,
     "metadata": {},
     "output_type": "execute_result"
    }
   ],
   "source": [
    "coeff_diff = (sgd_coeff - sklearn_coef)\n",
    "coeff_diff"
   ]
  },
  {
   "cell_type": "code",
   "execution_count": 26,
   "metadata": {},
   "outputs": [],
   "source": [
    "data ={'sklearn_coeff':sklearn_coef[0],'sgd implemented coeff': w, 'difference':coeff_diff[0]}"
   ]
  },
  {
   "cell_type": "code",
   "execution_count": 27,
   "metadata": {},
   "outputs": [
    {
     "data": {
      "text/html": [
       "<div>\n",
       "<style scoped>\n",
       "    .dataframe tbody tr th:only-of-type {\n",
       "        vertical-align: middle;\n",
       "    }\n",
       "\n",
       "    .dataframe tbody tr th {\n",
       "        vertical-align: top;\n",
       "    }\n",
       "\n",
       "    .dataframe thead th {\n",
       "        text-align: right;\n",
       "    }\n",
       "</style>\n",
       "<table border=\"1\" class=\"dataframe\">\n",
       "  <thead>\n",
       "    <tr style=\"text-align: right;\">\n",
       "      <th></th>\n",
       "      <th>sklearn_coeff</th>\n",
       "      <th>sgd implemented coeff</th>\n",
       "      <th>difference</th>\n",
       "    </tr>\n",
       "  </thead>\n",
       "  <tbody>\n",
       "    <tr>\n",
       "      <th>0</th>\n",
       "      <td>0.158493</td>\n",
       "      <td>0.152289</td>\n",
       "      <td>-0.006204</td>\n",
       "    </tr>\n",
       "    <tr>\n",
       "      <th>1</th>\n",
       "      <td>0.276004</td>\n",
       "      <td>0.281212</td>\n",
       "      <td>0.005208</td>\n",
       "    </tr>\n",
       "    <tr>\n",
       "      <th>2</th>\n",
       "      <td>-0.067160</td>\n",
       "      <td>-0.066081</td>\n",
       "      <td>0.001079</td>\n",
       "    </tr>\n",
       "    <tr>\n",
       "      <th>3</th>\n",
       "      <td>0.027808</td>\n",
       "      <td>0.036280</td>\n",
       "      <td>0.008472</td>\n",
       "    </tr>\n",
       "    <tr>\n",
       "      <th>4</th>\n",
       "      <td>0.109351</td>\n",
       "      <td>0.111759</td>\n",
       "      <td>0.002408</td>\n",
       "    </tr>\n",
       "    <tr>\n",
       "      <th>5</th>\n",
       "      <td>0.107308</td>\n",
       "      <td>0.111295</td>\n",
       "      <td>0.003987</td>\n",
       "    </tr>\n",
       "    <tr>\n",
       "      <th>6</th>\n",
       "      <td>-0.678547</td>\n",
       "      <td>-0.689543</td>\n",
       "      <td>-0.010996</td>\n",
       "    </tr>\n",
       "    <tr>\n",
       "      <th>7</th>\n",
       "      <td>0.036948</td>\n",
       "      <td>0.036407</td>\n",
       "      <td>-0.000541</td>\n",
       "    </tr>\n",
       "    <tr>\n",
       "      <th>8</th>\n",
       "      <td>-0.539665</td>\n",
       "      <td>-0.543305</td>\n",
       "      <td>-0.003640</td>\n",
       "    </tr>\n",
       "    <tr>\n",
       "      <th>9</th>\n",
       "      <td>-0.261108</td>\n",
       "      <td>-0.262299</td>\n",
       "      <td>-0.001191</td>\n",
       "    </tr>\n",
       "    <tr>\n",
       "      <th>10</th>\n",
       "      <td>0.058221</td>\n",
       "      <td>0.068878</td>\n",
       "      <td>0.010657</td>\n",
       "    </tr>\n",
       "    <tr>\n",
       "      <th>11</th>\n",
       "      <td>-0.080866</td>\n",
       "      <td>-0.076912</td>\n",
       "      <td>0.003953</td>\n",
       "    </tr>\n",
       "    <tr>\n",
       "      <th>12</th>\n",
       "      <td>-0.058791</td>\n",
       "      <td>-0.061771</td>\n",
       "      <td>-0.002980</td>\n",
       "    </tr>\n",
       "    <tr>\n",
       "      <th>13</th>\n",
       "      <td>-0.068349</td>\n",
       "      <td>-0.069483</td>\n",
       "      <td>-0.001134</td>\n",
       "    </tr>\n",
       "    <tr>\n",
       "      <th>14</th>\n",
       "      <td>0.488398</td>\n",
       "      <td>0.502962</td>\n",
       "      <td>0.014564</td>\n",
       "    </tr>\n",
       "  </tbody>\n",
       "</table>\n",
       "</div>"
      ],
      "text/plain": [
       "    sklearn_coeff  sgd implemented coeff  difference\n",
       "0        0.158493               0.152289   -0.006204\n",
       "1        0.276004               0.281212    0.005208\n",
       "2       -0.067160              -0.066081    0.001079\n",
       "3        0.027808               0.036280    0.008472\n",
       "4        0.109351               0.111759    0.002408\n",
       "5        0.107308               0.111295    0.003987\n",
       "6       -0.678547              -0.689543   -0.010996\n",
       "7        0.036948               0.036407   -0.000541\n",
       "8       -0.539665              -0.543305   -0.003640\n",
       "9       -0.261108              -0.262299   -0.001191\n",
       "10       0.058221               0.068878    0.010657\n",
       "11      -0.080866              -0.076912    0.003953\n",
       "12      -0.058791              -0.061771   -0.002980\n",
       "13      -0.068349              -0.069483   -0.001134\n",
       "14       0.488398               0.502962    0.014564"
      ]
     },
     "execution_count": 27,
     "metadata": {},
     "output_type": "execute_result"
    }
   ],
   "source": [
    "df1 = pd.DataFrame(data)\n",
    "df1"
   ]
  },
  {
   "cell_type": "markdown",
   "metadata": {},
   "source": [
    "#### Both Intercepts, custom and sklearn implementation"
   ]
  },
  {
   "cell_type": "code",
   "execution_count": 28,
   "metadata": {},
   "outputs": [
    {
     "data": {
      "text/html": [
       "<div>\n",
       "<style scoped>\n",
       "    .dataframe tbody tr th:only-of-type {\n",
       "        vertical-align: middle;\n",
       "    }\n",
       "\n",
       "    .dataframe tbody tr th {\n",
       "        vertical-align: top;\n",
       "    }\n",
       "\n",
       "    .dataframe thead th {\n",
       "        text-align: right;\n",
       "    }\n",
       "</style>\n",
       "<table border=\"1\" class=\"dataframe\">\n",
       "  <thead>\n",
       "    <tr style=\"text-align: right;\">\n",
       "      <th></th>\n",
       "      <th>sklearn_intercept</th>\n",
       "      <th>sgd_intercept</th>\n",
       "    </tr>\n",
       "  </thead>\n",
       "  <tbody>\n",
       "    <tr>\n",
       "      <th>0</th>\n",
       "      <td>-0.515463</td>\n",
       "      <td>-0.51638</td>\n",
       "    </tr>\n",
       "  </tbody>\n",
       "</table>\n",
       "</div>"
      ],
      "text/plain": [
       "   sklearn_intercept  sgd_intercept\n",
       "0          -0.515463       -0.51638"
      ]
     },
     "execution_count": 28,
     "metadata": {},
     "output_type": "execute_result"
    }
   ],
   "source": [
    "data2 = {'sklearn_intercept':sklearn_intercept, 'sgd_intercept':sgd_intercept}\n",
    "df2 = pd.DataFrame(data2)\n",
    "df2"
   ]
  },
  {
   "cell_type": "markdown",
   "metadata": {
    "id": "230YbSgNSUrQ"
   },
   "source": [
    "### <font color='blue'>Plot epoch number vs train , test loss </font>\n",
    "\n",
    "* epoch number on X-axis\n",
    "* loss on Y-axis"
   ]
  },
  {
   "cell_type": "code",
   "execution_count": 29,
   "metadata": {
    "id": "1O6GrRt7UeCJ"
   },
   "outputs": [
    {
     "data": {
      "text/plain": [
       "<function matplotlib.pyplot.show(close=None, block=None)>"
      ]
     },
     "execution_count": 29,
     "metadata": {},
     "output_type": "execute_result"
    },
    {
     "data": {
      "image/png": "[encoded data removed]",
      "text/plain": [
       "<Figure size 432x288 with 1 Axes>"
      ]
     },
     "metadata": {
      "needs_background": "light"
     },
     "output_type": "display_data"
    }
   ],
   "source": [
    "from matplotlib import pyplot as plt\n",
    "epoch = [i for i in range(1,last_epoch+1)]\n",
    "\n",
    "plt.plot(epoch,train_loss , label='training logloss')\n",
    "plt.plot(epoch,test_loss, label='test logloss')\n",
    "plt.xlabel(\"epoch no.\")\n",
    "plt.ylabel(\"logloss\")\n",
    "plt.legend()\n",
    "plt.show"
   ]
  },
  {
   "cell_type": "markdown",
   "metadata": {},
   "source": [
    "### <font color='red'> Prediction using Logistic concept, train and test accuracies </font>"
   ]
  },
  {
   "cell_type": "code",
   "execution_count": 30,
   "metadata": {
    "id": "FUN8puFoEZtU"
   },
   "outputs": [
    {
     "name": "stdout",
     "output_type": "stream",
     "text": [
      "0.9318666666666666\n",
      "0.92672\n"
     ]
    }
   ],
   "source": [
    "def pred(w,b, X):\n",
    "    N = len(X)\n",
    "    predict = []\n",
    "    for i in range(N):\n",
    "        z=np.dot(w,X[i])+b\n",
    "        if sigmoid(z) >= 0.5: # sigmoid(w,x,b) returns 1/(1+exp(-(dot(x,w)+b)))\n",
    "            predict.append(1)\n",
    "        else:\n",
    "            predict.append(0)\n",
    "    return np.array(predict)\n",
    "print(1-np.sum(y_train - pred(w,b,X_train))/len(X_train))\n",
    "print(1-np.sum(y_test  - pred(w,b,X_test))/len(X_test))"
   ]
  },
  {
   "cell_type": "markdown",
   "metadata": {},
   "source": [
    "* Conclusion : Train and Test accuracies yeilds good percentage values."
   ]
  },
  {
   "cell_type": "markdown",
   "metadata": {},
   "source": [
    "* Note: I have used make_classification function with these values : \"weights=[0.6], class_sep=0.7, random_state=42\" .\n",
    "* Out of 15 coefficients 12 are in the 10^-3 range. \n",
    "* Below is the result I'm getting. But still it is running till 50 epoch no.s.\n",
    "* Took confirmation from team, they said go ahead and submit the results"
   ]
  },
  {
   "cell_type": "markdown",
   "metadata": {},
   "source": [
    "## END"
   ]
  },
  {
   "cell_type": "code",
   "execution_count": null,
   "metadata": {},
   "outputs": [],
   "source": []
  }
 ],
 "metadata": {
  "colab": {
   "collapsed_sections": [],
   "name": "Assignment.ipynb",
   "provenance": []
  },
  "kernelspec": {
   "display_name": "Python 3 (ipykernel)",
   "language": "python",
   "name": "python3"
  },
  "language_info": {
   "codemirror_mode": {
    "name": "ipython",
    "version": 3
   },
   "file_extension": ".py",
   "mimetype": "text/x-python",
   "name": "python",
   "nbconvert_exporter": "python",
   "pygments_lexer": "ipython3",
   "version": "3.11.0"
  }
 },
 "nbformat": 4,
 "nbformat_minor": 4
}
